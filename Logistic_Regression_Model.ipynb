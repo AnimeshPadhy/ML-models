{
  "nbformat": 4,
  "nbformat_minor": 0,
  "metadata": {
    "colab": {
      "provenance": [],
      "authorship_tag": "ABX9TyM5//DPvSvDgMmSwTf4togS",
      "include_colab_link": true
    },
    "kernelspec": {
      "name": "python3",
      "display_name": "Python 3"
    },
    "language_info": {
      "name": "python"
    }
  },
  "cells": [
    {
      "cell_type": "markdown",
      "metadata": {
        "id": "view-in-github",
        "colab_type": "text"
      },
      "source": [
        "<a href=\"https://colab.research.google.com/github/AnimeshPadhy/ML-models/blob/main/Logistic_Regression_Model.ipynb\" target=\"_parent\"><img src=\"https://colab.research.google.com/assets/colab-badge.svg\" alt=\"Open In Colab\"/></a>"
      ]
    },
    {
      "cell_type": "markdown",
      "source": [
        "Import dependencies"
      ],
      "metadata": {
        "id": "50fOEt8qcebj"
      }
    },
    {
      "cell_type": "code",
      "execution_count": 1,
      "metadata": {
        "id": "oFdznmnvaJbU"
      },
      "outputs": [],
      "source": [
        "import numpy as np"
      ]
    },
    {
      "cell_type": "markdown",
      "source": [
        "Logistic Regression\n",
        "\n",
        "workflow-\n",
        "\n",
        "* Set Learning Rate and no of iterations; Initiate random weight and bias value.\n",
        "\n",
        "* Build Logistic Regression Function. (Sigmoid function)\n",
        "\n",
        "* Update the parameters using gradient descent\n",
        "\n",
        "Finally we will gwt thw best model (best w and b value) as it has min cost funct.\n",
        "\n",
        "* Build the 'predict' function to determine the class of the data point."
      ],
      "metadata": {
        "id": "5_lHyA9zcdK6"
      }
    },
    {
      "cell_type": "code",
      "source": [
        "class Logistic_Regression():\n",
        "\n",
        "  #declare/initiate Learning rate and no of iterations\n",
        "  def __init__(self, learning_rate, no_of_iter):\n",
        "    self.learning_rate= learning_rate\n",
        "    self.no_of_iter= no_of_iter\n",
        "\n",
        "\n",
        "  #fit function to train the model with dataset\n",
        "  def fit(self, X, Y):\n",
        "\n",
        "    #no of datapoints in the dataset (no of rows) - m\n",
        "    #no of i/p features in the dataset (no of cols) - n\n",
        "    self.m, self.n = X.shape\n",
        "\n",
        "    #initiate w and b value\n",
        "    self.w= np.zeroes(self.n)\n",
        "    self.b= 0\n",
        "    self.X= X\n",
        "    self.Y= Y\n",
        "\n",
        "    #implement gradient desceent for optimization\n",
        "    for i in range(self.no_of_iter):\n",
        "      self.update_weights()\n",
        "\n",
        "\n",
        "  #gradient descent algorithm\n",
        "  def update_weights(self):\n",
        "\n",
        "    #Y_hat formulae (sigmoid function)\n",
        "    Y_hat = 1 / (1 + np.exp(-(self.X.dot(self.w))+self.b))  #z= w.X + b\n",
        "\n",
        "    #derivatives\n",
        "    dw= (1/self.m) * np.dot(self.X.T, (Y_hat - self.Y))\n",
        "    db= (1/self.m) * np.sum(Y_hat - self.Y)\n",
        "\n",
        "    #updating w and b using gradient descent\n",
        "    self.w= self.w - self.learning_rate * dw\n",
        "    self.b= self.b - self.learning_rate * db\n",
        "\n",
        "\n",
        "\n",
        "  #sigmoid eqn and decision boundary\n",
        "  def predict(self, X):\n",
        "\n",
        "    Y_pred = 1 / (1 + np.exp(-(X.dot(self.w))+self.b))\n",
        "\n",
        "    Y_pred = np.where( Y_pred > 0.5, 1, 0)\n",
        "    return Y_pred\n",
        "\n",
        "\n"
      ],
      "metadata": {
        "id": "zADIvKNpcrOG"
      },
      "execution_count": 2,
      "outputs": []
    },
    {
      "cell_type": "markdown",
      "source": [
        "IMport dependencies"
      ],
      "metadata": {
        "id": "mt-iumV2EuLk"
      }
    },
    {
      "cell_type": "code",
      "source": [
        "import pandas as pd\n",
        "from sklearn.preprocessing import StandardScaler\n",
        "from sklearn.model_selection import train_test_split\n",
        "from sklearn.metrics import accuracy_score"
      ],
      "metadata": {
        "id": "1D4yX6K0fTlh"
      },
      "execution_count": 3,
      "outputs": []
    },
    {
      "cell_type": "markdown",
      "source": [
        "Data collection and Analysis\n",
        "\n",
        "PIMA Diabetes Dataset"
      ],
      "metadata": {
        "id": "Y-kAofLQFLJ3"
      }
    },
    {
      "cell_type": "code",
      "source": [
        "#load the diabetes dataset to pandas dataframe\n",
        "diabetes_dataset= pd.read_csv('/diabetes.csv')"
      ],
      "metadata": {
        "id": "zXK6Mhs4FJdh"
      },
      "execution_count": null,
      "outputs": []
    },
    {
      "cell_type": "code",
      "source": [
        "#print first 5 rows\n",
        "diabetes_dataset.head()"
      ],
      "metadata": {
        "id": "7iS2JjILQVFv"
      },
      "execution_count": null,
      "outputs": []
    },
    {
      "cell_type": "code",
      "source": [
        "#number of rows and columns\n",
        "diabetes_dataset.shape"
      ],
      "metadata": {
        "id": "h0FTpHDiQhFC"
      },
      "execution_count": null,
      "outputs": []
    },
    {
      "cell_type": "code",
      "source": [
        "#getting statistical measures of data\n",
        "diabetes_dataset.describe()"
      ],
      "metadata": {
        "id": "AQSCL8MlQnvE"
      },
      "execution_count": null,
      "outputs": []
    },
    {
      "cell_type": "code",
      "source": [
        "diabetes_dataset['Outcome'].value_counts()"
      ],
      "metadata": {
        "id": "W8ow5TugQ5NV"
      },
      "execution_count": null,
      "outputs": []
    },
    {
      "cell_type": "markdown",
      "source": [
        "0 - Non-diabetic\n",
        "\n",
        "1 - diabetic"
      ],
      "metadata": {
        "id": "JsXiUeKmRFbD"
      }
    },
    {
      "cell_type": "code",
      "source": [
        "diabetes_dataset.groupby('Outcome').mean()"
      ],
      "metadata": {
        "id": "kQPVHEW3RD_V"
      },
      "execution_count": null,
      "outputs": []
    },
    {
      "cell_type": "code",
      "source": [
        "#separating features and target\n",
        "features = diabetes_dataset.drop(columns= 'Outcome', axis=1)\n",
        "target = diabetes_dataset['Outcome']"
      ],
      "metadata": {
        "id": "sx9VhHD7RRpE"
      },
      "execution_count": null,
      "outputs": []
    },
    {
      "cell_type": "code",
      "source": [
        "print(features)"
      ],
      "metadata": {
        "id": "p7BTeb3WRtGr"
      },
      "execution_count": null,
      "outputs": []
    },
    {
      "cell_type": "code",
      "source": [
        "print(target)"
      ],
      "metadata": {
        "id": "CKTq5sNIR5eW"
      },
      "execution_count": null,
      "outputs": []
    },
    {
      "cell_type": "markdown",
      "source": [
        "Data standardization"
      ],
      "metadata": {
        "id": "iuNdChHzSMAb"
      }
    },
    {
      "cell_type": "code",
      "source": [
        "scaler = StandardScaler()"
      ],
      "metadata": {
        "id": "YsuybeBeSDr0"
      },
      "execution_count": null,
      "outputs": []
    },
    {
      "cell_type": "code",
      "source": [
        "scaler.fit(features)"
      ],
      "metadata": {
        "id": "Epw9Qf3PSZ0Z"
      },
      "execution_count": null,
      "outputs": []
    },
    {
      "cell_type": "code",
      "source": [
        "standardized_data= scaler.transform(features)"
      ],
      "metadata": {
        "id": "d5QPjARNSuKE"
      },
      "execution_count": null,
      "outputs": []
    },
    {
      "cell_type": "code",
      "source": [
        "print(standardized_data)"
      ],
      "metadata": {
        "id": "iOA6KBOUUEpm"
      },
      "execution_count": null,
      "outputs": []
    },
    {
      "cell_type": "code",
      "source": [
        "features = standardized_data\n",
        "target = diabetes_dataset['Outcome']"
      ],
      "metadata": {
        "id": "5Biozao3UJGK"
      },
      "execution_count": null,
      "outputs": []
    },
    {
      "cell_type": "code",
      "source": [
        "print(features)\n",
        "print(target)"
      ],
      "metadata": {
        "id": "9fCqDJc3UUZR"
      },
      "execution_count": null,
      "outputs": []
    },
    {
      "cell_type": "markdown",
      "source": [
        "Train test split"
      ],
      "metadata": {
        "id": "rA5s8iPFUbH9"
      }
    },
    {
      "cell_type": "code",
      "source": [
        "X_train, X_test, Y_train, Y_test = train_test_split(features, target, test_size= 0.2, random_state=2)"
      ],
      "metadata": {
        "id": "zbrkUtfjUZtB"
      },
      "execution_count": null,
      "outputs": []
    },
    {
      "cell_type": "code",
      "source": [
        "print(features.shape, X_train.shape, X_test.shape)"
      ],
      "metadata": {
        "id": "Peg3lb7nVSLL"
      },
      "execution_count": null,
      "outputs": []
    },
    {
      "cell_type": "markdown",
      "source": [
        "Train the Model"
      ],
      "metadata": {
        "id": "_MJZbOQhVcdr"
      }
    },
    {
      "cell_type": "code",
      "source": [
        "classifier = Logistic_Regression(learning_rate= 0.01, no_of_iter= 1000)"
      ],
      "metadata": {
        "id": "impUdx_JVaol"
      },
      "execution_count": null,
      "outputs": []
    },
    {
      "cell_type": "code",
      "source": [
        "#training the logistic regression classifier\n",
        "classifier.fit(X_train, Y_train)"
      ],
      "metadata": {
        "id": "c9zi7N6oV7h7"
      },
      "execution_count": null,
      "outputs": []
    },
    {
      "cell_type": "markdown",
      "source": [
        "Model Evaluation\n",
        "\n",
        "Accuracy score"
      ],
      "metadata": {
        "id": "GorDW03xWvIH"
      }
    },
    {
      "cell_type": "code",
      "source": [],
      "metadata": {
        "id": "mkQyErRHWPC3"
      },
      "execution_count": null,
      "outputs": []
    }
  ]
}